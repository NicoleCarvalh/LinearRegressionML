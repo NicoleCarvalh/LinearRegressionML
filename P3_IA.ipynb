{
  "cells": [
    {
      "cell_type": "markdown",
      "metadata": {
        "id": "Kc4jWQKrUG6j"
      },
      "source": [
        "# Analisando acidentes fatais na estrada na Austrália entre 1989 e 2021\n"
      ]
    },
    {
      "cell_type": "code",
      "execution_count": 77,
      "metadata": {
        "colab": {
          "base_uri": "https://localhost:8080/"
        },
        "id": "r36ftqipTRSI",
        "outputId": "5d4feaf5-afd2-4986-c29b-8b12ac9a8e03"
      },
      "outputs": [],
      "source": [
        "#TODO DESCOMENTAR PARA ENTREGA\n",
        "# pd.set_option('display.max_columns', None)\n",
        "# path_to_arthurs_drive = '/content/drive/MyDrive/IA - P3/Crash_Data.csv'\n",
        "# df = pd.read_csv(path_to_arthurs_drive)\n",
        "\n",
        "import pandas as pd\n",
        "import seaborn as sns\n",
        "import matplotlib.pyplot as plt\n",
        "import numpy as np\n",
        "from sklearn.preprocessing import LabelEncoder\n",
        "# from sklearn.impute import KNNImputer\n",
        "# from matplotlib.dates import DateFormatter\n",
        "\n",
        "import warnings\n",
        "warnings.filterwarnings(\"ignore\")\n",
        "\n",
        "df = pd.read_csv(\"Crash_Data.csv\")\n"
      ]
    },
    {
      "cell_type": "markdown",
      "metadata": {
        "id": "rhHNzFwSRKU_"
      },
      "source": [
        "# Visualizando os dados brutos"
      ]
    },
    {
      "cell_type": "code",
      "execution_count": 78,
      "metadata": {
        "colab": {
          "base_uri": "https://localhost:8080/",
          "height": 417
        },
        "id": "TxrFKaQdxT3u",
        "outputId": "ab8f8456-ac03-40d4-a972-f0bb0d8e6861"
      },
      "outputs": [],
      "source": [
        "df.head(5)"
      ]
    },
    {
      "cell_type": "code",
      "execution_count": 79,
      "metadata": {
        "colab": {
          "base_uri": "https://localhost:8080/"
        },
        "id": "Ev8L3CkfQ3bm",
        "outputId": "489cd169-f94a-4155-cdb4-2475cd081856"
      },
      "outputs": [],
      "source": [
        "# Emite um relatório simples sobre TODAS AS COLUNAS do Data frame\n",
        "for column in df:\n",
        "  soma_valores_nulos = df[column].isnull().sum()\n",
        "  total_valores = len(df[column])\n",
        "  porcentagem_nulos = round((soma_valores_nulos / total_valores) * 100, 2)\n",
        "\n",
        "  print(f'Coluna {column} possui {soma_valores_nulos} valores nulos do total de {total_valores} -> {porcentagem_nulos}% \\n valores diferentes: {set(df[column])} \\n\\n')\n"
      ]
    },
    {
      "cell_type": "markdown",
      "metadata": {},
      "source": [
        "# Tratando colunas selecionadas para análise"
      ]
    },
    {
      "cell_type": "code",
      "execution_count": 80,
      "metadata": {
        "colab": {
          "base_uri": "https://localhost:8080/"
        },
        "id": "H8A6wTqYxTdG",
        "outputId": "d1d94acb-1dfb-4fbe-b79f-fd38e93dc31c"
      },
      "outputs": [],
      "source": [
        "# Separa as colunas que serão usadas para análise e descarta as demais\n",
        "df = df[[\n",
        "  'Time',\n",
        "  'Time of day',\n",
        "  'Day of week',\n",
        "  'Month',\n",
        "  'Year',\n",
        "  'Dayweek',\n",
        "  'Crash Type',\n",
        "  'Road User',\n",
        "  'Gender',\n",
        "  'Age',\n",
        "  'Age Group',\n",
        "  'State',\n",
        "  'Speed Limit',\n",
        "  'Bus Involvement',\n",
        "  'Articulated Truck Involvement',\n",
        "  'Christmas Period',\n",
        "  'Easter Period',\n",
        "]]\n",
        "\n",
        "# Emite um relatório simples sobre os dados de cada coluna do Data frame\n",
        "for column in df:\n",
        "  soma_valores_nulos = df[column].isnull().sum()\n",
        "  total_valores = len(df[column])\n",
        "  porcentagem_nulos = round((soma_valores_nulos / total_valores) * 100, 2)\n",
        "\n",
        "  print(f'Coluna {column} possui {soma_valores_nulos} valores nulos do total de {total_valores} -> {porcentagem_nulos}% \\n valores diferentes: {set(df[column])} \\n\\n')\n",
        "\n"
      ]
    },
    {
      "cell_type": "code",
      "execution_count": 74,
      "metadata": {
        "colab": {
          "base_uri": "https://localhost:8080/",
          "height": 617
        },
        "id": "PXKlhyRG66Rf",
        "outputId": "434cc089-d359-4bc2-fd14-f286d0d04104"
      },
      "outputs": [],
      "source": [
        "dfcopy = df.copy()\n",
        "# Drop nas linhas onde a existe ao menos um valor nulo\n",
        "dfcopy.dropna()"
      ]
    },
    {
      "cell_type": "code",
      "execution_count": null,
      "metadata": {},
      "outputs": [],
      "source": [
        "dfcopy.isnull().sum()"
      ]
    },
    {
      "cell_type": "code",
      "execution_count": null,
      "metadata": {},
      "outputs": [],
      "source": []
    },
    {
      "cell_type": "code",
      "execution_count": null,
      "metadata": {
        "id": "yoSX78Sa652b"
      },
      "outputs": [],
      "source": []
    },
    {
      "cell_type": "code",
      "execution_count": null,
      "metadata": {
        "id": "FqN1HmF565n1"
      },
      "outputs": [],
      "source": []
    }
  ],
  "metadata": {
    "colab": {
      "provenance": []
    },
    "kernelspec": {
      "display_name": "Python 3",
      "name": "python3"
    },
    "language_info": {
      "codemirror_mode": {
        "name": "ipython",
        "version": 3
      },
      "file_extension": ".py",
      "mimetype": "text/x-python",
      "name": "python",
      "nbconvert_exporter": "python",
      "pygments_lexer": "ipython3",
      "version": "3.12.0"
    }
  },
  "nbformat": 4,
  "nbformat_minor": 0
}
